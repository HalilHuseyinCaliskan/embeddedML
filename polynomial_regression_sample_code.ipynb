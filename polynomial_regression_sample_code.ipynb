{
 "cells": [
  {
   "cell_type": "code",
   "execution_count": 1,
   "id": "2a4a016a-afe8-4aa7-8f45-739cfd1380fe",
   "metadata": {},
   "outputs": [],
   "source": [
    "from embeddedML import PolynomialRegressionFast\n",
    "from embeddedML import Preprocessing\n",
    "from embeddedML import Metrics"
   ]
  },
  {
   "cell_type": "code",
   "execution_count": 2,
   "id": "6c19afce-5f50-49fd-9e77-d3ddcb7c87c1",
   "metadata": {},
   "outputs": [],
   "source": [
    "import pandas as pd\n",
    "import numpy as np"
   ]
  },
  {
   "cell_type": "code",
   "execution_count": 3,
   "id": "52f8be91-143f-4eee-ad14-e24548b6df26",
   "metadata": {},
   "outputs": [],
   "source": [
    "model=PolynomialRegressionFast()\n",
    "preprocesser=Preprocessing()\n",
    "metrics=Metrics()"
   ]
  },
  {
   "cell_type": "code",
   "execution_count": 5,
   "id": "42f717ef-7038-43f8-a262-0860498c81c4",
   "metadata": {},
   "outputs": [],
   "source": [
    "data=pd.read_csv(\"Computer_Data.csv\")\n",
    "data=data.drop(data.columns[0],axis=1)\n",
    "data_dummies=pd.get_dummies(data,drop_first=True)"
   ]
  },
  {
   "cell_type": "code",
   "execution_count": 7,
   "id": "fdb82fa1-77aa-4226-8c8b-f1cc199d8c34",
   "metadata": {},
   "outputs": [],
   "source": [
    "X=data_dummies.loc[:,data_dummies.columns!=\"price\"].values.astype(float)\n",
    "y=data_dummies.loc[:,data_dummies.columns==\"price\"].values.astype(float)"
   ]
  },
  {
   "cell_type": "code",
   "execution_count": 8,
   "id": "d54d9d6a-d5a5-4802-b1fc-6ae7d14c4116",
   "metadata": {},
   "outputs": [],
   "source": [
    "X_train,X_val,y_train,y_val=preprocesser.train_val_split(X,y,train_rate=0.8,is_shuffle=True)"
   ]
  },
  {
   "cell_type": "code",
   "execution_count": 10,
   "id": "7dda2257-53ac-4de8-a7fd-8e7cbfcb2760",
   "metadata": {},
   "outputs": [],
   "source": [
    "model.train(X_train,y_train,degree=3)"
   ]
  },
  {
   "cell_type": "code",
   "execution_count": 11,
   "id": "b256c63e-a07c-4ac6-8c7a-401edd1bee29",
   "metadata": {},
   "outputs": [],
   "source": [
    "y_pred=model.predict(X_val)"
   ]
  },
  {
   "cell_type": "code",
   "execution_count": 12,
   "id": "a5cd1be3-d6be-45c7-8d83-70250ab31ded",
   "metadata": {},
   "outputs": [
    {
     "name": "stdout",
     "output_type": "stream",
     "text": [
      "R2 Score: 0.8592182689616868\n",
      "MSE Score: 43844.37229993829\n",
      "MSA Score: 157.38027883169522\n",
      "RMSE Score: 209.3904780546104\n"
     ]
    }
   ],
   "source": [
    "print(f\"R2 Score: {metrics.r2_score(y_val,y_pred)}\")\n",
    "print(f\"MSE Score: {metrics.mean_squared_error(y_val,y_pred)}\")\n",
    "print(f\"MSA Score: {metrics.mean_absolute_error(y_val,y_pred)}\")\n",
    "print(f\"RMSE Score: {metrics.root_mean_squared_error(y_val,y_pred)}\")"
   ]
  },
  {
   "cell_type": "code",
   "execution_count": null,
   "id": "d1476884-67b0-432d-a415-e9b3084225bb",
   "metadata": {},
   "outputs": [],
   "source": []
  }
 ],
 "metadata": {
  "kernelspec": {
   "display_name": "Python 3 (ipykernel)",
   "language": "python",
   "name": "python3"
  },
  "language_info": {
   "codemirror_mode": {
    "name": "ipython",
    "version": 3
   },
   "file_extension": ".py",
   "mimetype": "text/x-python",
   "name": "python",
   "nbconvert_exporter": "python",
   "pygments_lexer": "ipython3",
   "version": "3.11.7"
  }
 },
 "nbformat": 4,
 "nbformat_minor": 5
}
