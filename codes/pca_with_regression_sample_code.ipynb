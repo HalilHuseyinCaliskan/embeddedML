{
 "cells": [
  {
   "cell_type": "code",
   "execution_count": 1,
   "id": "57763ec4-01ae-44a4-99d5-79d332b9db1b",
   "metadata": {},
   "outputs": [],
   "source": [
    "from embeddedML import PCA,MultipleLinearRegressionFast\n",
    "from embeddedML import Preprocessing\n",
    "from embeddedML import Metrics"
   ]
  },
  {
   "cell_type": "code",
   "execution_count": 2,
   "id": "d49a22e5-808b-49da-b7b5-6c570253abb6",
   "metadata": {},
   "outputs": [],
   "source": [
    "import pandas as pd\n",
    "import numpy as np"
   ]
  },
  {
   "cell_type": "code",
   "execution_count": 3,
   "id": "4ed64588-8bae-4759-addd-8e4355ac8c43",
   "metadata": {},
   "outputs": [],
   "source": [
    "# The objects are created using classes imported from the embeddedML library.\n",
    "pca=PCA()\n",
    "model=MultipleLinearRegressionFast()\n",
    "preprocesser=Preprocessing()\n",
    "metrics=Metrics()"
   ]
  },
  {
   "cell_type": "code",
   "execution_count": 4,
   "id": "c750b2a3-3c24-4679-a931-56e029c12d6d",
   "metadata": {},
   "outputs": [],
   "source": [
    "data=pd.read_csv(\"train_energy_data.csv\")\n",
    "data_dummies=pd.get_dummies(data,drop_first=True)"
   ]
  },
  {
   "cell_type": "code",
   "execution_count": 5,
   "id": "30c9b62b-683d-4747-a859-4d16bfded74a",
   "metadata": {},
   "outputs": [],
   "source": [
    "X=data_dummies.loc[:,data_dummies.columns!=\"Energy Consumption\"].values.astype(float)\n",
    "y=data_dummies.loc[:,data_dummies.columns==\"Energy Consumption\"].values.astype(float)"
   ]
  },
  {
   "cell_type": "code",
   "execution_count": 6,
   "id": "4882e8cf-af7b-4b6f-9c18-8d73d786f5b0",
   "metadata": {},
   "outputs": [
    {
     "name": "stdout",
     "output_type": "stream",
     "text": [
      "(1000, 7)\n"
     ]
    }
   ],
   "source": [
    "print(X.shape)"
   ]
  },
  {
   "cell_type": "code",
   "execution_count": 7,
   "id": "8be88c28-29f2-4992-a534-2122826f841d",
   "metadata": {},
   "outputs": [],
   "source": [
    "# The train and validation datasets are normalized with the standard_scaler function of the preprocessor object.\n",
    "X = preprocesser.standard_scaler(X)"
   ]
  },
  {
   "cell_type": "code",
   "execution_count": 8,
   "id": "92f7913d-6020-403a-b2c3-c74a63f5efff",
   "metadata": {},
   "outputs": [],
   "source": [
    "# Dimension reduction is completed with the transform function inside the pca object.\n",
    "X_reduced = pca.transform(X, n_components=5)"
   ]
  },
  {
   "cell_type": "code",
   "execution_count": 9,
   "id": "5710bab4-7204-4c82-8e0f-51e76f196684",
   "metadata": {},
   "outputs": [
    {
     "name": "stdout",
     "output_type": "stream",
     "text": [
      "Explained variance: 79.69%\n"
     ]
    }
   ],
   "source": [
    "print(f\"Explained variance: {pca.calculate_explained_variance():.2f}%\")"
   ]
  },
  {
   "cell_type": "code",
   "execution_count": 10,
   "id": "52942000-f9b5-43a6-be63-41f8f5220a53",
   "metadata": {},
   "outputs": [
    {
     "name": "stdout",
     "output_type": "stream",
     "text": [
      "Number of components selected according to variance: 5\n"
     ]
    }
   ],
   "source": [
    "print(f\"Number of components selected according to variance: {pca.select_components(X, variance_threshold=79)}\")"
   ]
  },
  {
   "cell_type": "code",
   "execution_count": 11,
   "id": "1342dcb0-09aa-440f-9dfe-f6cfe0e59b9e",
   "metadata": {},
   "outputs": [],
   "source": [
    "# The dataset are divided with the train_val_split function of the preprocessor object.\n",
    "X_train,X_val,y_train,y_val=preprocesser.train_val_split(X_reduced,y,train_rate=0.8,is_shuffle=True)"
   ]
  },
  {
   "cell_type": "code",
   "execution_count": 12,
   "id": "0c176a97-65b3-46e9-98b4-37fa1472201e",
   "metadata": {},
   "outputs": [],
   "source": [
    "# Model training and prediction are performed with the object produced by the MultipleLinearRegressionFast class.\n",
    "model.train(X_train, y_train)"
   ]
  },
  {
   "cell_type": "code",
   "execution_count": 13,
   "id": "c98cb3ac-94cf-48ca-b0d8-b8ce4c311714",
   "metadata": {},
   "outputs": [],
   "source": [
    "y_pred = model.predict(X_val)"
   ]
  },
  {
   "cell_type": "code",
   "execution_count": 14,
   "id": "bd531517-8103-48f6-a696-0259aabab677",
   "metadata": {},
   "outputs": [
    {
     "name": "stdout",
     "output_type": "stream",
     "text": [
      "R2 Score: 0.9960465869642198\n",
      "MSE Score: 3653.7805080413145\n",
      "MSA Score: 48.751994965102256\n",
      "RMSE Score: 60.446509477730096\n"
     ]
    }
   ],
   "source": [
    "print(f\"R2 Score: {metrics.r2_score(y_val,y_pred)}\")\n",
    "print(f\"MSE Score: {metrics.mean_squared_error(y_val,y_pred)}\")\n",
    "print(f\"MSA Score: {metrics.mean_absolute_error(y_val,y_pred)}\")\n",
    "print(f\"RMSE Score: {metrics.root_mean_squared_error(y_val,y_pred)}\")"
   ]
  },
  {
   "cell_type": "code",
   "execution_count": null,
   "id": "faff516a-7969-4c93-b7f2-4cc0b349e91b",
   "metadata": {},
   "outputs": [],
   "source": []
  }
 ],
 "metadata": {
  "kernelspec": {
   "display_name": "Python 3 (ipykernel)",
   "language": "python",
   "name": "python3"
  },
  "language_info": {
   "codemirror_mode": {
    "name": "ipython",
    "version": 3
   },
   "file_extension": ".py",
   "mimetype": "text/x-python",
   "name": "python",
   "nbconvert_exporter": "python",
   "pygments_lexer": "ipython3",
   "version": "3.11.7"
  }
 },
 "nbformat": 4,
 "nbformat_minor": 5
}
