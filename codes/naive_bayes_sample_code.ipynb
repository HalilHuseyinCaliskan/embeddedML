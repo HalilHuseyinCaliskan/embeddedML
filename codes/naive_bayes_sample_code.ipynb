{
 "cells": [
  {
   "cell_type": "code",
   "execution_count": 1,
   "id": "52e2ffc1-f349-4ac7-8c28-dddb5d93d854",
   "metadata": {},
   "outputs": [],
   "source": [
    "from embeddedML import NaiveBayesFast\n",
    "from embeddedML import Preprocessing\n",
    "from embeddedML import Metrics"
   ]
  },
  {
   "cell_type": "code",
   "execution_count": 2,
   "id": "7b4a9a69-2959-494d-806f-34bbaf6496d3",
   "metadata": {},
   "outputs": [],
   "source": [
    "import pandas as pd\n",
    "import numpy as np"
   ]
  },
  {
   "cell_type": "code",
   "execution_count": 3,
   "id": "1f61a11d-e8fd-40b6-ae37-8f0e08d5899e",
   "metadata": {},
   "outputs": [],
   "source": [
    "# The objects are created using classes imported from the embeddedML library.\n",
    "model=NaiveBayesFast()\n",
    "preprocesser=Preprocessing()\n",
    "metrics=Metrics()"
   ]
  },
  {
   "cell_type": "code",
   "execution_count": 4,
   "id": "12775aab-556d-4666-9a53-73e6239a706f",
   "metadata": {},
   "outputs": [],
   "source": [
    "data=pd.read_csv(\"diabetes2.csv\")\n",
    "data_dummies=pd.get_dummies(data,drop_first=True)"
   ]
  },
  {
   "cell_type": "code",
   "execution_count": 5,
   "id": "478a1ed1-1303-4d83-a940-a4f76c078aa1",
   "metadata": {},
   "outputs": [],
   "source": [
    "X=data_dummies.loc[:,data_dummies.columns!=\"Outcome\"].values.astype(float)\n",
    "y=data_dummies.loc[:,data_dummies.columns==\"Outcome\"].values.astype(float)"
   ]
  },
  {
   "cell_type": "code",
   "execution_count": 6,
   "id": "fef3d69c-d2ba-4442-b969-05da3f6af49f",
   "metadata": {},
   "outputs": [],
   "source": [
    "# The dataset are divided with the train_val_split function of the preprocessor object.\n",
    "X_train,X_val,y_train,y_val=preprocesser.train_val_split(X,y,train_rate=0.8,is_shuffle=True)"
   ]
  },
  {
   "cell_type": "code",
   "execution_count": 8,
   "id": "84339648-e57f-4f66-8c46-1941aa7d30ff",
   "metadata": {},
   "outputs": [],
   "source": [
    "# The train and validation datasets are optimized in terms of memory consumption with the type_function function of the preprocessor object.\n",
    "X_train,y_train=preprocesser.type_function(X_train,y_train)\n",
    "X_val,y_val=preprocesser.type_function(X_val,y_val)"
   ]
  },
  {
   "cell_type": "code",
   "execution_count": 9,
   "id": "486514a3-f848-4b3a-b418-33585e3f9e11",
   "metadata": {},
   "outputs": [],
   "source": [
    "# The train and validation datasets are normalized with the standard_scaler function of the preprocessor object.\n",
    "X_train = preprocesser.standard_scaler(X_train, fast=True)\n",
    "X_val = preprocesser.standard_scaler(X_val, fast=True)"
   ]
  },
  {
   "cell_type": "code",
   "execution_count": 13,
   "id": "3be0fe00-3c69-46ae-9b6e-b08b00cb4335",
   "metadata": {},
   "outputs": [],
   "source": [
    "# The labels are flattened and reshaped from 2D to 1D.\n",
    "y_train = y_train.flatten()"
   ]
  },
  {
   "cell_type": "code",
   "execution_count": 14,
   "id": "2d3a3444-4c68-4cca-afe8-c6906e72e5e3",
   "metadata": {},
   "outputs": [],
   "source": [
    "# Model training and prediction are performed with the object produced by the NaiveBayesFast class.\n",
    "model.train(X_train,y_train)"
   ]
  },
  {
   "cell_type": "code",
   "execution_count": 15,
   "id": "7958a59b-4f11-4000-be88-2aa4489c12c7",
   "metadata": {},
   "outputs": [],
   "source": [
    "# The labels are flattened and reshaped from 2D to 1D.\n",
    "y_val = y_val.flatten()"
   ]
  },
  {
   "cell_type": "code",
   "execution_count": 16,
   "id": "220ebcb3-1e9e-4dd2-86e6-2d33628e5a96",
   "metadata": {},
   "outputs": [],
   "source": [
    "y_pred = model.predict(X_val)"
   ]
  },
  {
   "cell_type": "code",
   "execution_count": 17,
   "id": "399c2eef-77df-4ff4-a462-207421b7505e",
   "metadata": {},
   "outputs": [
    {
     "name": "stdout",
     "output_type": "stream",
     "text": [
      "Accuracy : 75.97%\n",
      "Precision: 0.6032\n",
      "Recall   : 0.7600\n",
      "F1 Score : 0.6726\n"
     ]
    }
   ],
   "source": [
    "print(f\"Accuracy : {metrics.accuracy(y_val, y_pred):.2f}%\")  \n",
    "print(f\"Precision: {metrics.precision(y_val, y_pred):.4f}\")     \n",
    "print(f\"Recall   : {metrics.recall(y_val, y_pred):.4f}\")        \n",
    "print(f\"F1 Score : {metrics.f1_score(y_val, y_pred):.4f}\") "
   ]
  },
  {
   "cell_type": "code",
   "execution_count": null,
   "id": "fdd696e7-3e30-4dcc-a140-4a66380ec45b",
   "metadata": {},
   "outputs": [],
   "source": []
  }
 ],
 "metadata": {
  "kernelspec": {
   "display_name": "Python 3 (ipykernel)",
   "language": "python",
   "name": "python3"
  },
  "language_info": {
   "codemirror_mode": {
    "name": "ipython",
    "version": 3
   },
   "file_extension": ".py",
   "mimetype": "text/x-python",
   "name": "python",
   "nbconvert_exporter": "python",
   "pygments_lexer": "ipython3",
   "version": "3.11.7"
  }
 },
 "nbformat": 4,
 "nbformat_minor": 5
}
