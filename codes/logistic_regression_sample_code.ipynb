{
 "cells": [
  {
   "cell_type": "code",
   "execution_count": 1,
   "id": "325760c3-8d01-40d6-92ff-8b7181e28052",
   "metadata": {},
   "outputs": [],
   "source": [
    "from embeddedML import LogisticRegressionFast\n",
    "from embeddedML import Preprocessing\n",
    "from embeddedML import Metrics"
   ]
  },
  {
   "cell_type": "code",
   "execution_count": 2,
   "id": "b816b7f6-d4d0-4b6f-bc62-dfafdbbc98b9",
   "metadata": {},
   "outputs": [],
   "source": [
    "import pandas as pd\n",
    "import numpy as np"
   ]
  },
  {
   "cell_type": "code",
   "execution_count": 3,
   "id": "0cd9d09e-b28e-4d33-b4ff-3963416d5292",
   "metadata": {},
   "outputs": [],
   "source": [
    "import time"
   ]
  },
  {
   "cell_type": "code",
   "execution_count": 4,
   "id": "771a9bc0-1e7e-4dfc-99bb-d054a6fd07d8",
   "metadata": {},
   "outputs": [],
   "source": [
    "# The objects are created using classes imported from the embeddedML library.\n",
    "model=LogisticRegressionFast()\n",
    "preprocesser=Preprocessing()\n",
    "metrics=Metrics()"
   ]
  },
  {
   "cell_type": "code",
   "execution_count": 5,
   "id": "d0a2960f-e0f7-4422-a56f-a2524a8cdc4e",
   "metadata": {},
   "outputs": [],
   "source": [
    "data=pd.read_csv(\"diabetes_random.csv\")\n",
    "data_dummies=pd.get_dummies(data,drop_first=True)"
   ]
  },
  {
   "cell_type": "code",
   "execution_count": 6,
   "id": "fe64c2de-e998-412f-a379-67d2f50b8c91",
   "metadata": {},
   "outputs": [],
   "source": [
    "X=data_dummies.loc[:,data_dummies.columns!=\"Outcome\"].values.astype(float)\n",
    "y=data_dummies.loc[:,data_dummies.columns==\"Outcome\"].values.astype(float)"
   ]
  },
  {
   "cell_type": "code",
   "execution_count": 7,
   "id": "b0e269b7-ca6d-40bb-8ea1-6003ed951326",
   "metadata": {},
   "outputs": [],
   "source": [
    "# The dataset are divided with the train_val_split function of the preprocessor object.\n",
    "X_train,X_val,y_train,y_val=preprocesser.train_val_split(X,y,train_rate=0.8,is_shuffle=False)"
   ]
  },
  {
   "cell_type": "code",
   "execution_count": 8,
   "id": "7e4fae01-8e9b-4112-8bc3-da1dd8f71cc9",
   "metadata": {},
   "outputs": [],
   "source": [
    "# The train and validation datasets are normalized with the standard_scaler function of the preprocessor object.\n",
    "X_train = preprocesser.standard_scaler(X_train, fast=True)\n",
    "X_val = preprocesser.standard_scaler(X_val, fast=True)"
   ]
  },
  {
   "cell_type": "code",
   "execution_count": 9,
   "id": "fa72bfb3-8e9e-45e0-90dc-ecb131a79a45",
   "metadata": {},
   "outputs": [],
   "source": [
    "# The labels are flattened and reshaped from 2D to 1D.\n",
    "y_train = y_train.flatten()"
   ]
  },
  {
   "cell_type": "code",
   "execution_count": 10,
   "id": "6ab267f3-7bce-4570-9fcc-c836e5a0a38a",
   "metadata": {},
   "outputs": [],
   "source": [
    "t=time.time()"
   ]
  },
  {
   "cell_type": "code",
   "execution_count": 11,
   "id": "e7fbdb85-9f5c-4224-9222-9e625403c02a",
   "metadata": {},
   "outputs": [],
   "source": [
    "# Model training and prediction are performed with the object produced by the LogisticRegressionFast class.\n",
    "model.train(X_train,y_train,epochs=10,lr=0.02,beta1=0.9,beta2=0.9)"
   ]
  },
  {
   "cell_type": "code",
   "execution_count": 13,
   "id": "ea918942-c76a-48df-a4c8-e099b5063ebe",
   "metadata": {},
   "outputs": [],
   "source": [
    "# The labels are flattened and reshaped from 2D to 1D.\n",
    "y_val = y_val.flatten()"
   ]
  },
  {
   "cell_type": "code",
   "execution_count": 14,
   "id": "98927d6a-0a72-48f8-b9d3-db92f038fd22",
   "metadata": {},
   "outputs": [],
   "source": [
    "y_pred=model.predict(X_val)"
   ]
  },
  {
   "cell_type": "code",
   "execution_count": 15,
   "id": "846391bb-eebb-4b7f-8a6e-fe7c9364787f",
   "metadata": {},
   "outputs": [
    {
     "name": "stdout",
     "output_type": "stream",
     "text": [
      "Accuracy : 71.43%\n",
      "Precision: 0.6250\n",
      "Recall   : 0.6034\n",
      "F1 Score : 0.6140\n"
     ]
    }
   ],
   "source": [
    "# The model is evaluated by functions within the object produced by the Metrics class.\n",
    "print(f\"Accuracy : {metrics.accuracy(y_val, y_pred):.2f}%\")  \n",
    "print(f\"Precision: {metrics.precision(y_val, y_pred):.4f}\")     \n",
    "print(f\"Recall   : {metrics.recall(y_val, y_pred):.4f}\")        \n",
    "print(f\"F1 Score : {metrics.f1_score(y_val, y_pred):.4f}\") "
   ]
  }
 ],
 "metadata": {
  "kernelspec": {
   "display_name": "Python 3 (ipykernel)",
   "language": "python",
   "name": "python3"
  },
  "language_info": {
   "codemirror_mode": {
    "name": "ipython",
    "version": 3
   },
   "file_extension": ".py",
   "mimetype": "text/x-python",
   "name": "python",
   "nbconvert_exporter": "python",
   "pygments_lexer": "ipython3",
   "version": "3.11.7"
  }
 },
 "nbformat": 4,
 "nbformat_minor": 5
}
