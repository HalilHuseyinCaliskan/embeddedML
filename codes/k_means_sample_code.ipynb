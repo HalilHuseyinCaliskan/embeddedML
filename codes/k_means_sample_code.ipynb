{
 "cells": [
  {
   "cell_type": "code",
   "execution_count": 1,
   "id": "228777c5-a32d-414f-95ac-1b29e9f34ba6",
   "metadata": {},
   "outputs": [],
   "source": [
    "from embeddedML import K_Means\n",
    "from embeddedML import Preprocessing\n",
    "from embeddedML import Metrics"
   ]
  },
  {
   "cell_type": "code",
   "execution_count": 2,
   "id": "399f6041-154f-4f29-afad-708089ab0404",
   "metadata": {},
   "outputs": [],
   "source": [
    "import pandas as pd\n",
    "import numpy as np"
   ]
  },
  {
   "cell_type": "code",
   "execution_count": 3,
   "id": "fbec027a-a4e4-4a73-bf10-58cc98a2742e",
   "metadata": {},
   "outputs": [],
   "source": [
    "# The objects are created using classes imported from the embeddedML library.\n",
    "model=K_Means()\n",
    "preprocesser=Preprocessing()\n",
    "metrics=Metrics()"
   ]
  },
  {
   "cell_type": "code",
   "execution_count": 4,
   "id": "e5cf2647-2a25-4c63-9be8-3818d113e11d",
   "metadata": {},
   "outputs": [],
   "source": [
    "data=pd.read_csv(\"Customers.csv\")\n",
    "data=data.drop(data.columns[0],axis=1)\n",
    "data_dummies=pd.get_dummies(data,drop_first=True).values"
   ]
  },
  {
   "cell_type": "code",
   "execution_count": 5,
   "id": "712cfbd0-7de0-44c2-9b88-7ca3102526f9",
   "metadata": {},
   "outputs": [],
   "source": [
    "# The dataset are divided with the train_val_split function of the preprocessor object.\n",
    "train_dataset,test_dataset=preprocesser.train_validation_split(data_dummies,train_rate=0.8,is_shuffle=True)"
   ]
  },
  {
   "cell_type": "code",
   "execution_count": 6,
   "id": "84001f1a-6924-48ed-8e97-e050fa8a7192",
   "metadata": {},
   "outputs": [],
   "source": [
    "# The dataset are convertod to list form.\n",
    "train_dataset=train_dataset.tolist() \n",
    "test_dataset=test_dataset.tolist() "
   ]
  },
  {
   "cell_type": "code",
   "execution_count": 7,
   "id": "16cffd2d-949f-471f-a85f-e589250fc404",
   "metadata": {},
   "outputs": [],
   "source": [
    "# Model training and prediction are performed with the object produced by the K_Means class.\n",
    "centroids, clusters = model.k_means(train_dataset, k=3, max_iteration=100)"
   ]
  },
  {
   "cell_type": "code",
   "execution_count": 8,
   "id": "55c2c0dc-7dae-446d-b021-633c3c5a044f",
   "metadata": {},
   "outputs": [],
   "source": [
    "distance_index = model.predict(test_dataset, centroids)"
   ]
  }
 ],
 "metadata": {
  "kernelspec": {
   "display_name": "Python 3 (ipykernel)",
   "language": "python",
   "name": "python3"
  },
  "language_info": {
   "codemirror_mode": {
    "name": "ipython",
    "version": 3
   },
   "file_extension": ".py",
   "mimetype": "text/x-python",
   "name": "python",
   "nbconvert_exporter": "python",
   "pygments_lexer": "ipython3",
   "version": "3.11.7"
  }
 },
 "nbformat": 4,
 "nbformat_minor": 5
}
