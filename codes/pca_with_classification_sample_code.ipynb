{
 "cells": [
  {
   "cell_type": "code",
   "execution_count": 1,
   "id": "fb7cf2e5-82ad-41a7-9778-f7d7d4c55021",
   "metadata": {},
   "outputs": [],
   "source": [
    "from embeddedML import PCA,LogisticRegressionFast\n",
    "from embeddedML import Preprocessing\n",
    "from embeddedML import Metrics"
   ]
  },
  {
   "cell_type": "code",
   "execution_count": 2,
   "id": "3753ac04-424a-4ac9-bf50-e84611581f2a",
   "metadata": {},
   "outputs": [],
   "source": [
    "import pandas as pd\n",
    "import numpy as np"
   ]
  },
  {
   "cell_type": "code",
   "execution_count": 3,
   "id": "b771c43c-9b2a-4acc-8de7-f485e19ca950",
   "metadata": {},
   "outputs": [],
   "source": [
    "# The objects are created using classes imported from the embeddedML library.\n",
    "pca=PCA()\n",
    "model=LogisticRegressionFast()\n",
    "preprocesser=Preprocessing()\n",
    "metrics=Metrics()"
   ]
  },
  {
   "cell_type": "code",
   "execution_count": 4,
   "id": "a782e25d-353b-4e58-8755-a50afee643ff",
   "metadata": {},
   "outputs": [],
   "source": [
    "data=pd.read_csv(\"diabetes2.csv\")\n",
    "data_dummies=pd.get_dummies(data,drop_first=True)"
   ]
  },
  {
   "cell_type": "code",
   "execution_count": 5,
   "id": "0097b12d-4a6d-4750-9229-c5fabaf7ad29",
   "metadata": {},
   "outputs": [],
   "source": [
    "X=data_dummies.loc[:,data_dummies.columns!=\"Outcome\"].values.astype(float)\n",
    "y=data_dummies.loc[:,data_dummies.columns==\"Outcome\"].values.astype(float)"
   ]
  },
  {
   "cell_type": "code",
   "execution_count": 6,
   "id": "e3d26ffc-b424-42fd-939c-442bc84ccd5c",
   "metadata": {},
   "outputs": [
    {
     "name": "stdout",
     "output_type": "stream",
     "text": [
      "(768, 8)\n"
     ]
    }
   ],
   "source": [
    "print(X.shape)"
   ]
  },
  {
   "cell_type": "code",
   "execution_count": 7,
   "id": "821de5cd-2305-4999-8421-d69a161a006d",
   "metadata": {},
   "outputs": [],
   "source": [
    "# The train and validation datasets are normalized with the standard_scaler function of the preprocessor object.\n",
    "X = preprocesser.standard_scaler(X)"
   ]
  },
  {
   "cell_type": "code",
   "execution_count": 8,
   "id": "4a999ba9-cf96-4b0a-8d07-22efc4182236",
   "metadata": {},
   "outputs": [],
   "source": [
    "# Dimension reduction is completed with the transform function inside the pca object.\n",
    "X_reduced = pca.transform(X, n_components=3)"
   ]
  },
  {
   "cell_type": "code",
   "execution_count": 9,
   "id": "c09eb51c-017a-4248-a47c-299716f4140f",
   "metadata": {},
   "outputs": [
    {
     "name": "stdout",
     "output_type": "stream",
     "text": [
      "Explained variance: 60.69%\n"
     ]
    }
   ],
   "source": [
    "print(f\"Explained variance: {pca.calculate_explained_variance():.2f}%\")"
   ]
  },
  {
   "cell_type": "code",
   "execution_count": 10,
   "id": "5f3e50cb-2407-478f-ab92-bde88fd5741f",
   "metadata": {},
   "outputs": [
    {
     "name": "stdout",
     "output_type": "stream",
     "text": [
      "Number of components selected according to variance: 3\n"
     ]
    }
   ],
   "source": [
    "print(f\"Number of components selected according to variance: {pca.select_components(X, variance_threshold=60)}\")"
   ]
  },
  {
   "cell_type": "code",
   "execution_count": 11,
   "id": "a450c9e5-2425-4f37-bcca-9301b917a5c0",
   "metadata": {},
   "outputs": [],
   "source": [
    "# The dataset are divided with the train_val_split function of the preprocessor object.\n",
    "X_train,X_val,y_train,y_val=preprocesser.train_val_split(X_reduced,y,train_rate=0.8,is_shuffle=True)"
   ]
  },
  {
   "cell_type": "code",
   "execution_count": 12,
   "id": "5d4bcf85-139e-4b15-8f2e-46fffa2dad97",
   "metadata": {},
   "outputs": [],
   "source": [
    "y_train = y_train.flatten()"
   ]
  },
  {
   "cell_type": "code",
   "execution_count": 13,
   "id": "12a46272-0bbd-404c-ac73-724c01835de2",
   "metadata": {},
   "outputs": [],
   "source": [
    "# Model training and prediction are performed with the object produced by the LogisticRegressionFast class.\n",
    "model.train(X_train, y_train,epochs=20,lr=0.01,beta1=0.9,beta2=0.95)"
   ]
  },
  {
   "cell_type": "code",
   "execution_count": 14,
   "id": "c705b49f-2d56-4a99-a941-7bbc79c0a9e5",
   "metadata": {},
   "outputs": [],
   "source": [
    "y_val = y_val.flatten()"
   ]
  },
  {
   "cell_type": "code",
   "execution_count": 15,
   "id": "2e404391-b9ac-4aa1-bc1d-b70177476bac",
   "metadata": {},
   "outputs": [],
   "source": [
    "y_pred = model.predict(X_val)"
   ]
  },
  {
   "cell_type": "code",
   "execution_count": 16,
   "id": "dc4460f5-0a5d-4ae8-ac3b-d16c692639cc",
   "metadata": {},
   "outputs": [
    {
     "name": "stdout",
     "output_type": "stream",
     "text": [
      "Accuracy : 68.83%\n",
      "Precision: 0.5455\n",
      "Recall   : 0.4615\n",
      "F1 Score : 0.5000\n"
     ]
    }
   ],
   "source": [
    "print(f\"Accuracy : {metrics.accuracy(y_val, y_pred):.2f}%\")  \n",
    "print(f\"Precision: {metrics.precision(y_val, y_pred):.4f}\")     \n",
    "print(f\"Recall   : {metrics.recall(y_val, y_pred):.4f}\")        \n",
    "print(f\"F1 Score : {metrics.f1_score(y_val, y_pred):.4f}\") "
   ]
  },
  {
   "cell_type": "code",
   "execution_count": null,
   "id": "c563fcc7-af72-4ce7-a9c2-f20145ea5191",
   "metadata": {},
   "outputs": [],
   "source": []
  }
 ],
 "metadata": {
  "kernelspec": {
   "display_name": "Python 3 (ipykernel)",
   "language": "python",
   "name": "python3"
  },
  "language_info": {
   "codemirror_mode": {
    "name": "ipython",
    "version": 3
   },
   "file_extension": ".py",
   "mimetype": "text/x-python",
   "name": "python",
   "nbconvert_exporter": "python",
   "pygments_lexer": "ipython3",
   "version": "3.11.7"
  }
 },
 "nbformat": 4,
 "nbformat_minor": 5
}
