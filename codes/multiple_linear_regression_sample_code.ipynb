{
 "cells": [
  {
   "cell_type": "code",
   "execution_count": 1,
   "id": "878c4338-601a-48f9-b94a-7c586c91d318",
   "metadata": {},
   "outputs": [],
   "source": [
    "from embeddedML import MultipleLinearRegressionFast\n",
    "from embeddedML import Preprocessing\n",
    "from embeddedML import Metrics"
   ]
  },
  {
   "cell_type": "code",
   "execution_count": 2,
   "id": "7679b51e-65cf-48d3-9420-37152cfa79be",
   "metadata": {},
   "outputs": [],
   "source": [
    "import pandas as pd\n",
    "import numpy as np"
   ]
  },
  {
   "cell_type": "code",
   "execution_count": 3,
   "id": "fce21152-ee7a-42ff-b5da-911bdeacbee5",
   "metadata": {},
   "outputs": [],
   "source": [
    "import time"
   ]
  },
  {
   "cell_type": "code",
   "execution_count": 4,
   "id": "b3260289-fb06-4a10-ad84-9e646cc9d13a",
   "metadata": {},
   "outputs": [],
   "source": [
    "# The objects are created using classes imported from the embeddedML library.\n",
    "model=MultipleLinearRegressionFast()\n",
    "preprocesser=Preprocessing()\n",
    "metrics=Metrics()"
   ]
  },
  {
   "cell_type": "code",
   "execution_count": 5,
   "id": "332964cc-af69-402d-b63c-366ba3cc1b61",
   "metadata": {},
   "outputs": [],
   "source": [
    "data=pd.read_csv(\"train_energy_data.csv\")\n",
    "data_dummies=pd.get_dummies(data,drop_first=True)"
   ]
  },
  {
   "cell_type": "code",
   "execution_count": 6,
   "id": "24896ec8-e650-4e68-b431-150e5b037000",
   "metadata": {},
   "outputs": [],
   "source": [
    "X=data_dummies.loc[:,data_dummies.columns!=\"Energy Consumption\"].values.astype(float)\n",
    "y=data_dummies.loc[:,data_dummies.columns==\"Energy Consumption\"].values.astype(float)"
   ]
  },
  {
   "cell_type": "code",
   "execution_count": 7,
   "id": "70ff83d3-42d9-4e63-8344-85167f4cffba",
   "metadata": {},
   "outputs": [],
   "source": [
    "# The dataset are divided with the train_val_split function of the preprocessor object.\n",
    "X_train,X_val,y_train,y_val=preprocesser.train_val_split(X,y,train_rate=0.8,is_shuffle=True)"
   ]
  },
  {
   "cell_type": "code",
   "execution_count": 8,
   "id": "0f20d2d2-c894-44ad-b307-2eafc9d0976d",
   "metadata": {
    "scrolled": true
   },
   "outputs": [],
   "source": [
    "# Model training and prediction are performed with the object produced by the MultipleLinearRegressionFast class.\n",
    "model.train(X_train,y_train)"
   ]
  },
  {
   "cell_type": "code",
   "execution_count": 9,
   "id": "4f07189f-fa9f-436d-ace8-d203e73eb87b",
   "metadata": {},
   "outputs": [],
   "source": [
    "y_pred=model.predict(X_val)"
   ]
  },
  {
   "cell_type": "code",
   "execution_count": 10,
   "id": "5f545bce-f87b-48ae-aacf-16feb255a0b9",
   "metadata": {},
   "outputs": [],
   "source": [
    "# The model is evaluated by functions within the object produced by the Metrics class.\n",
    "r2 = metrics.r2_score(y_val, y_pred)\n",
    "mse = metrics.mean_squared_error(y_val, y_pred)\n",
    "mae = metrics.mean_absolute_error(y_val, y_pred)\n",
    "rmse = metrics.root_mean_squared_error(y_val, y_pred)"
   ]
  }
 ],
 "metadata": {
  "kernelspec": {
   "display_name": "Python 3 (ipykernel)",
   "language": "python",
   "name": "python3"
  },
  "language_info": {
   "codemirror_mode": {
    "name": "ipython",
    "version": 3
   },
   "file_extension": ".py",
   "mimetype": "text/x-python",
   "name": "python",
   "nbconvert_exporter": "python",
   "pygments_lexer": "ipython3",
   "version": "3.11.7"
  }
 },
 "nbformat": 4,
 "nbformat_minor": 5
}
