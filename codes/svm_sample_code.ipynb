{
 "cells": [
  {
   "cell_type": "code",
   "execution_count": 1,
   "id": "550d1f82-464c-4eb3-bae4-73822220ddea",
   "metadata": {},
   "outputs": [],
   "source": [
    "from embeddedML import SVMFast\n",
    "from embeddedML import Preprocessing\n",
    "from embeddedML import Metrics"
   ]
  },
  {
   "cell_type": "code",
   "execution_count": 2,
   "id": "30ab31f3-eac0-40c9-a6d5-b9b8179e39a8",
   "metadata": {},
   "outputs": [],
   "source": [
    "import pandas as pd\n",
    "import numpy as np"
   ]
  },
  {
   "cell_type": "code",
   "execution_count": 3,
   "id": "8e95b2e6-5381-4084-91f4-73a29ba413f2",
   "metadata": {},
   "outputs": [],
   "source": [
    "import time"
   ]
  },
  {
   "cell_type": "code",
   "execution_count": 4,
   "id": "14894ac2-1be9-403d-92fa-b1281d5f73fd",
   "metadata": {},
   "outputs": [],
   "source": [
    "# The objects are created using classes imported from the embeddedML library.\n",
    "model=SVMFast()\n",
    "preprocesser=Preprocessing()\n",
    "metrics=Metrics()"
   ]
  },
  {
   "cell_type": "code",
   "execution_count": 5,
   "id": "118b4b31-a109-4081-82c3-0263eb27a880",
   "metadata": {},
   "outputs": [],
   "source": [
    "data=pd.read_csv(\"diabetes_random.csv\")\n",
    "data_dummies=pd.get_dummies(data,drop_first=True)"
   ]
  },
  {
   "cell_type": "code",
   "execution_count": 6,
   "id": "87654bb7-6796-4778-8bec-185d2a04f6e4",
   "metadata": {},
   "outputs": [],
   "source": [
    "X=data_dummies.loc[:,data_dummies.columns!=\"Outcome\"].values.astype(float)\n",
    "y=data_dummies.loc[:,data_dummies.columns==\"Outcome\"].values.astype(float)"
   ]
  },
  {
   "cell_type": "code",
   "execution_count": 7,
   "id": "0226a84b-4960-44e3-ba4b-b5ea9de3c125",
   "metadata": {},
   "outputs": [],
   "source": [
    "# The dataset are divided with the train_val_split function of the preprocessor object.\n",
    "X_train,X_val,y_train,y_val=preprocesser.train_val_split(X,y,train_rate=0.8,is_shuffle=True)"
   ]
  },
  {
   "cell_type": "code",
   "execution_count": 8,
   "id": "b58076d7-c2a3-4fba-afc4-10e6bd318803",
   "metadata": {},
   "outputs": [],
   "source": [
    "# The train and validation datasets are normalized with the standard_scaler function of the preprocessor object.\n",
    "X_train = preprocesser.standard_scaler(X_train, fast=True)\n",
    "X_val = preprocesser.standard_scaler(X_val, fast=True)"
   ]
  },
  {
   "cell_type": "code",
   "execution_count": 9,
   "id": "7c80d81e-bd45-45fa-a8ff-925196a0295f",
   "metadata": {},
   "outputs": [],
   "source": [
    "# The labels are flattened and reshaped from 2D to 1D.\n",
    "y_train = y_train.flatten()"
   ]
  },
  {
   "cell_type": "code",
   "execution_count": 10,
   "id": "3f257e30-7a41-47cb-8b93-40732a541559",
   "metadata": {},
   "outputs": [],
   "source": [
    "# The labels are adjusted according to SVM.\n",
    "y_train = preprocesser.svm_transformation(y_train)"
   ]
  },
  {
   "cell_type": "code",
   "execution_count": 11,
   "id": "cfe883f3-c0c9-4352-bf9d-f1d978c7167f",
   "metadata": {},
   "outputs": [],
   "source": [
    "model.train(X_train,y_train,epochs=5,lr=0.02,beta=0.7,lambda_param=0.0001)"
   ]
  },
  {
   "cell_type": "code",
   "execution_count": 12,
   "id": "f2a7bd36-a4b5-4741-a210-010952afa227",
   "metadata": {},
   "outputs": [],
   "source": [
    "# The labels are flattened and reshaped from 2D to 1D.\n",
    "y_val = y_val.flatten()"
   ]
  },
  {
   "cell_type": "code",
   "execution_count": 13,
   "id": "a7bbdc4b-950c-4c4e-95fe-3e68f7f9d3fc",
   "metadata": {},
   "outputs": [],
   "source": [
    "# The labels are adjusted according to SVM.\n",
    "y_val = preprocesser.svm_transformation(y_val)"
   ]
  },
  {
   "cell_type": "code",
   "execution_count": 14,
   "id": "d2302141-bad0-4059-b0ca-3919a5dc3be7",
   "metadata": {},
   "outputs": [],
   "source": [
    "y_pred=model.predict(X_val)"
   ]
  },
  {
   "cell_type": "code",
   "execution_count": 15,
   "id": "89e3104e-e52b-41a0-8846-5856a0792ca1",
   "metadata": {},
   "outputs": [
    {
     "name": "stdout",
     "output_type": "stream",
     "text": [
      "Accuracy : 70.13%\n",
      "Precision: 0.6078\n",
      "Recall   : 0.5439\n",
      "F1 Score : 0.5741\n"
     ]
    }
   ],
   "source": [
    "# The model is evaluated by functions within the object produced by the Metrics class.\n",
    "print(f\"Accuracy : {metrics.accuracy(y_val, y_pred):.2f}%\")  \n",
    "print(f\"Precision: {metrics.precision(y_val, y_pred,svm_=True):.4f}\")     \n",
    "print(f\"Recall   : {metrics.recall(y_val, y_pred,svm_=True):.4f}\")        \n",
    "print(f\"F1 Score : {metrics.f1_score(y_val, y_pred,svm_=True):.4f}\") "
   ]
  }
 ],
 "metadata": {
  "kernelspec": {
   "display_name": "Python 3 (ipykernel)",
   "language": "python",
   "name": "python3"
  },
  "language_info": {
   "codemirror_mode": {
    "name": "ipython",
    "version": 3
   },
   "file_extension": ".py",
   "mimetype": "text/x-python",
   "name": "python",
   "nbconvert_exporter": "python",
   "pygments_lexer": "ipython3",
   "version": "3.11.7"
  }
 },
 "nbformat": 4,
 "nbformat_minor": 5
}
