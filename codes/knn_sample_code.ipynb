{
 "cells": [
  {
   "cell_type": "code",
   "execution_count": 1,
   "id": "a6fb60f6-81eb-4094-84b0-bbfc5e365529",
   "metadata": {},
   "outputs": [],
   "source": [
    "from embeddedML import KNNFast\n",
    "from embeddedML import Preprocessing\n",
    "from embeddedML import Metrics"
   ]
  },
  {
   "cell_type": "code",
   "execution_count": 2,
   "id": "02959977-3348-4f2a-a373-6d772c0d318c",
   "metadata": {},
   "outputs": [],
   "source": [
    "import pandas as pd\n",
    "import numpy as np"
   ]
  },
  {
   "cell_type": "code",
   "execution_count": 3,
   "id": "3d4b389c-e75d-4e73-aa7a-fa3e7b806973",
   "metadata": {},
   "outputs": [],
   "source": [
    "# The objects are created using classes imported from the embeddedML library.\n",
    "model=KNNFast()\n",
    "preprocesser=Preprocessing()\n",
    "metrics=Metrics()"
   ]
  },
  {
   "cell_type": "code",
   "execution_count": 4,
   "id": "a461521a-b44d-4515-86a9-467481e2cc17",
   "metadata": {},
   "outputs": [],
   "source": [
    "data=pd.read_csv(\"diabetes2.csv\")\n",
    "data_dummies=pd.get_dummies(data,drop_first=True)"
   ]
  },
  {
   "cell_type": "code",
   "execution_count": 5,
   "id": "7ae48637-8e65-48a3-ad8c-2bea4757c769",
   "metadata": {},
   "outputs": [],
   "source": [
    "X=data_dummies.loc[:,data_dummies.columns!=\"Outcome\"].values.astype(float)\n",
    "y=data_dummies.loc[:,data_dummies.columns==\"Outcome\"].values.astype(float)"
   ]
  },
  {
   "cell_type": "code",
   "execution_count": 6,
   "id": "38f92eb7-445d-43d9-bdd2-c4f545688bda",
   "metadata": {},
   "outputs": [],
   "source": [
    "# The dataset are divided with the train_val_split function of the preprocessor object.\n",
    "X_train,X_val,y_train,y_val=preprocesser.train_val_split(X,y,train_rate=0.8,is_shuffle=True)"
   ]
  },
  {
   "cell_type": "code",
   "execution_count": 7,
   "id": "aa494bfc-408f-46a0-bfa7-7d7b07e99725",
   "metadata": {},
   "outputs": [],
   "source": [
    "# The train and validation datasets are normalized with the standard_scaler function of the preprocessor object.\n",
    "X_train = preprocesser.standard_scaler(X_train, fast=True)\n",
    "X_val = preprocesser.standard_scaler(X_val, fast=True)"
   ]
  },
  {
   "cell_type": "code",
   "execution_count": 8,
   "id": "1c8a6776-9ba1-4719-9e87-c676517848e5",
   "metadata": {},
   "outputs": [],
   "source": [
    "# The labels are flattened and reshaped from 2D to 1D.\n",
    "y_train = y_train.flatten()"
   ]
  },
  {
   "cell_type": "code",
   "execution_count": 9,
   "id": "c5102bed-219d-479c-b0fd-e173e14eac95",
   "metadata": {},
   "outputs": [],
   "source": [
    "# The labels are flattened and reshaped from 2D to 1D.\n",
    "y_val = y_val.flatten()"
   ]
  },
  {
   "cell_type": "code",
   "execution_count": 10,
   "id": "664b37f5-625b-4f62-868a-d28cb12e1559",
   "metadata": {},
   "outputs": [],
   "source": [
    "# Prediction are performed with the object produced by the KNNFast class.\n",
    "y_pred=model.predict(X_train,y_train,X_val,k=5)"
   ]
  },
  {
   "cell_type": "code",
   "execution_count": 11,
   "id": "0e616b94-c31d-40b3-b548-e82a68fa624f",
   "metadata": {},
   "outputs": [],
   "source": [
    "# The model is evaluated by functions within the object produced by the Metrics class.\n",
    "accuracy = metrics.accuracy(y_val, y_pred)\n",
    "precision = metrics.precision(y_val, y_pred)\n",
    "recall = metrics.recall(y_val, y_pred)\n",
    "f1_score = metrics.f1_score(y_val, y_pred)"
   ]
  },
  {
   "cell_type": "code",
   "execution_count": null,
   "id": "df84d4d1-1122-47b4-abc2-1a3886c480c9",
   "metadata": {},
   "outputs": [],
   "source": []
  }
 ],
 "metadata": {
  "kernelspec": {
   "display_name": "Python 3 (ipykernel)",
   "language": "python",
   "name": "python3"
  },
  "language_info": {
   "codemirror_mode": {
    "name": "ipython",
    "version": 3
   },
   "file_extension": ".py",
   "mimetype": "text/x-python",
   "name": "python",
   "nbconvert_exporter": "python",
   "pygments_lexer": "ipython3",
   "version": "3.11.7"
  }
 },
 "nbformat": 4,
 "nbformat_minor": 5
}
