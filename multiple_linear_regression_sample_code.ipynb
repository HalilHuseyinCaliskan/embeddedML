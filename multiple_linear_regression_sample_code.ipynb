{
 "cells": [
  {
   "cell_type": "code",
   "execution_count": 1,
   "id": "878c4338-601a-48f9-b94a-7c586c91d318",
   "metadata": {},
   "outputs": [],
   "source": [
    "from embeddedML import MultipleLinearRegressionFast\n",
    "from embeddedML import Preprocessing\n",
    "from embeddedML import Metrics"
   ]
  },
  {
   "cell_type": "code",
   "execution_count": 2,
   "id": "7679b51e-65cf-48d3-9420-37152cfa79be",
   "metadata": {},
   "outputs": [],
   "source": [
    "import pandas as pd\n",
    "import numpy as np"
   ]
  },
  {
   "cell_type": "code",
   "execution_count": 3,
   "id": "fce21152-ee7a-42ff-b5da-911bdeacbee5",
   "metadata": {},
   "outputs": [],
   "source": [
    "import time"
   ]
  },
  {
   "cell_type": "code",
   "execution_count": 4,
   "id": "b3260289-fb06-4a10-ad84-9e646cc9d13a",
   "metadata": {},
   "outputs": [],
   "source": [
    "model=MultipleLinearRegressionFast()\n",
    "preprocesser=Preprocessing()\n",
    "metrics=Metrics()"
   ]
  },
  {
   "cell_type": "code",
   "execution_count": 5,
   "id": "332964cc-af69-402d-b63c-366ba3cc1b61",
   "metadata": {},
   "outputs": [],
   "source": [
    "data=pd.read_csv(\"train_energy_data.csv\")\n",
    "data_dummies=pd.get_dummies(data,drop_first=True)"
   ]
  },
  {
   "cell_type": "code",
   "execution_count": 6,
   "id": "24896ec8-e650-4e68-b431-150e5b037000",
   "metadata": {},
   "outputs": [],
   "source": [
    "X=data_dummies.loc[:,data_dummies.columns!=\"Energy Consumption\"].values.astype(float)\n",
    "y=data_dummies.loc[:,data_dummies.columns==\"Energy Consumption\"].values.astype(float)"
   ]
  },
  {
   "cell_type": "code",
   "execution_count": 7,
   "id": "70ff83d3-42d9-4e63-8344-85167f4cffba",
   "metadata": {},
   "outputs": [],
   "source": [
    "X_train,X_val,y_train,y_val=preprocesser.train_val_split(X,y,train_rate=0.8,is_shuffle=True)"
   ]
  },
  {
   "cell_type": "code",
   "execution_count": 8,
   "id": "0f20d2d2-c894-44ad-b307-2eafc9d0976d",
   "metadata": {},
   "outputs": [
    {
     "name": "stdout",
     "output_type": "stream",
     "text": [
      "milliseconds: 0.11337995529174805\n"
     ]
    }
   ],
   "source": [
    "t=time.time()\n",
    "for i in range(100):\n",
    "    model.train(X_train,y_train)\n",
    "t2=time.time()\n",
    "print(\"milliseconds:\",(t2-t)*1000/100)"
   ]
  },
  {
   "cell_type": "code",
   "execution_count": 9,
   "id": "4f07189f-fa9f-436d-ace8-d203e73eb87b",
   "metadata": {},
   "outputs": [],
   "source": [
    "y_pred=model.predict(X_val)"
   ]
  },
  {
   "cell_type": "code",
   "execution_count": 10,
   "id": "5f545bce-f87b-48ae-aacf-16feb255a0b9",
   "metadata": {},
   "outputs": [
    {
     "name": "stdout",
     "output_type": "stream",
     "text": [
      "R2 Score: 0.9999999997364983\n",
      "MSE Score: 0.00020286151755234328\n",
      "MSA Score: 0.012095975506131253\n",
      "RMSE Score: 0.014242946238483921\n"
     ]
    }
   ],
   "source": [
    "print(f\"R2 Score: {metrics.r2_score(y_val,y_pred)}\")\n",
    "print(f\"MSE Score: {metrics.mean_squared_error(y_val,y_pred)}\")\n",
    "print(f\"MSA Score: {metrics.mean_absolute_error(y_val,y_pred)}\")\n",
    "print(f\"RMSE Score: {metrics.root_mean_squared_error(y_val,y_pred)}\")"
   ]
  },
  {
   "cell_type": "markdown",
   "id": "50ab3fff-59f6-4a50-ba0f-0e531f6cc271",
   "metadata": {},
   "source": [
    "**Scikit-learn**"
   ]
  },
  {
   "cell_type": "code",
   "execution_count": 11,
   "id": "9bbf303c-0a58-4c8d-b82a-638d7a583234",
   "metadata": {},
   "outputs": [
    {
     "name": "stdout",
     "output_type": "stream",
     "text": [
      "milliseconds: 1.040177345275879\n",
      "R2 Score: 0.9999999997364983\n",
      "MSE Score: 0.00020286151722201745\n",
      "MSA Score: 0.012095975485760847\n",
      "RMSE Score: 0.014242946226887801\n"
     ]
    }
   ],
   "source": [
    "from sklearn.linear_model import LinearRegression\n",
    "from sklearn.metrics import r2_score,mean_squared_error,mean_absolute_error\n",
    "model_scikit=LinearRegression()\n",
    "t=time.time()\n",
    "for i in range(100):\n",
    "    model_scikit.fit(X_train,y_train)\n",
    "t2=time.time()\n",
    "print(\"milliseconds:\",(t2-t)*1000/100)\n",
    "y_pred_scikit=model_scikit.predict(X_val)\n",
    "print(f\"R2 Score: {r2_score(y_val,y_pred_scikit)}\")\n",
    "print(f\"MSE Score: {mean_squared_error(y_val,y_pred_scikit)}\")\n",
    "print(f\"MSA Score: {mean_absolute_error(y_val,y_pred_scikit)}\")\n",
    "print(f\"RMSE Score: {np.sqrt(mean_squared_error(y_val,y_pred_scikit))}\")"
   ]
  },
  {
   "cell_type": "code",
   "execution_count": null,
   "id": "caaabf35-88bb-4f27-8742-72f1498e0225",
   "metadata": {},
   "outputs": [],
   "source": []
  },
  {
   "cell_type": "code",
   "execution_count": null,
   "id": "bbb6fffe-5c0a-48d4-85ed-38660bd68b73",
   "metadata": {},
   "outputs": [],
   "source": []
  },
  {
   "cell_type": "code",
   "execution_count": null,
   "id": "e448c5b5-c22a-4905-b9db-d5853e40cf4c",
   "metadata": {},
   "outputs": [],
   "source": []
  },
  {
   "cell_type": "code",
   "execution_count": null,
   "id": "3eaf9a1e-1f19-468a-b656-5aa900be3f0f",
   "metadata": {},
   "outputs": [],
   "source": []
  },
  {
   "cell_type": "raw",
   "id": "86d09a4d-b6a5-4d57-ac87-0d5a1f47ead6",
   "metadata": {},
   "source": [
    "0.14 ms    1.51 ms"
   ]
  },
  {
   "cell_type": "code",
   "execution_count": 12,
   "id": "6013ce5d-7777-49ba-ad61-3b9087e2091c",
   "metadata": {},
   "outputs": [
    {
     "data": {
      "text/plain": [
       "(800, 7)"
      ]
     },
     "execution_count": 12,
     "metadata": {},
     "output_type": "execute_result"
    }
   ],
   "source": [
    "X_train.shape"
   ]
  },
  {
   "cell_type": "code",
   "execution_count": null,
   "id": "25380baa-55fc-4c7c-9816-db89230e6df3",
   "metadata": {},
   "outputs": [],
   "source": []
  }
 ],
 "metadata": {
  "kernelspec": {
   "display_name": "Python 3 (ipykernel)",
   "language": "python",
   "name": "python3"
  },
  "language_info": {
   "codemirror_mode": {
    "name": "ipython",
    "version": 3
   },
   "file_extension": ".py",
   "mimetype": "text/x-python",
   "name": "python",
   "nbconvert_exporter": "python",
   "pygments_lexer": "ipython3",
   "version": "3.11.7"
  }
 },
 "nbformat": 4,
 "nbformat_minor": 5
}
