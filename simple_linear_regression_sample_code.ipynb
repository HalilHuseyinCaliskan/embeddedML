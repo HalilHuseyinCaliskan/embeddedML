{
 "cells": [
  {
   "cell_type": "code",
   "execution_count": 2,
   "id": "69aade74-ec4e-467d-912d-a31629738ddf",
   "metadata": {},
   "outputs": [],
   "source": [
    "from embeddedML import SimpleLinearRegressionFast\n",
    "from embeddedML import Preprocessing\n",
    "from embeddedML import Metrics"
   ]
  },
  {
   "cell_type": "code",
   "execution_count": 3,
   "id": "6fe4fea6-e5c7-4013-9c4d-17923b1e884e",
   "metadata": {},
   "outputs": [],
   "source": [
    "import pandas as pd\n",
    "import numpy as np"
   ]
  },
  {
   "cell_type": "code",
   "execution_count": 4,
   "id": "803db368-6493-4e58-b923-7693c08fec6f",
   "metadata": {},
   "outputs": [],
   "source": [
    "model=SimpleLinearRegressionFast()\n",
    "preprocesser=Preprocessing()\n",
    "metrics=Metrics()"
   ]
  },
  {
   "cell_type": "code",
   "execution_count": 5,
   "id": "02a82171-0f7d-4ad6-b651-642f9c58385c",
   "metadata": {},
   "outputs": [],
   "source": [
    "data=pd.read_csv(\"Salary_dataset.csv\")\n",
    "data_dummies=pd.get_dummies(data,drop_first=True)"
   ]
  },
  {
   "cell_type": "code",
   "execution_count": 7,
   "id": "12260f6d-ded4-47d0-a28e-68f41b3ca790",
   "metadata": {},
   "outputs": [],
   "source": [
    "X=data_dummies.iloc[:,1].values.astype(float)\n",
    "y=data_dummies.iloc[:,-1].values.astype(float)"
   ]
  },
  {
   "cell_type": "code",
   "execution_count": 8,
   "id": "50e476ff-a80d-47bd-bdae-4cc1f0cc7652",
   "metadata": {},
   "outputs": [],
   "source": [
    "X_train,X_val,y_train,y_val=preprocesser.train_val_split(X,y,train_rate=0.8,is_shuffle=True)"
   ]
  },
  {
   "cell_type": "code",
   "execution_count": 9,
   "id": "0d8069cc-3f8f-499d-9888-00937e576f9f",
   "metadata": {},
   "outputs": [],
   "source": [
    "model.train(X_train,y_train)"
   ]
  },
  {
   "cell_type": "code",
   "execution_count": 10,
   "id": "937ead1b-ae81-4275-ab76-6081f635ab19",
   "metadata": {},
   "outputs": [],
   "source": [
    "y_pred=model.predict(X_val)"
   ]
  },
  {
   "cell_type": "code",
   "execution_count": 11,
   "id": "cab3d130-7af7-4c1c-836c-4db221eedaa8",
   "metadata": {},
   "outputs": [
    {
     "name": "stdout",
     "output_type": "stream",
     "text": [
      "R2 Score: 0.9338710813955571\n",
      "MSE Score: 27535444.21125628\n",
      "MSA Score: 4317.227923330121\n",
      "RMSE Score: 5247.422625561646\n"
     ]
    }
   ],
   "source": [
    "print(f\"R2 Score: {metrics.r2_score(y_val,y_pred)}\")\n",
    "print(f\"MSE Score: {metrics.mean_squared_error(y_val,y_pred)}\")\n",
    "print(f\"MSA Score: {metrics.mean_absolute_error(y_val,y_pred)}\")\n",
    "print(f\"RMSE Score: {metrics.root_mean_squared_error(y_val,y_pred)}\")"
   ]
  },
  {
   "cell_type": "code",
   "execution_count": null,
   "id": "42986346-b682-464f-b7fd-0512f3a8c3c1",
   "metadata": {},
   "outputs": [],
   "source": []
  }
 ],
 "metadata": {
  "kernelspec": {
   "display_name": "Python 3 (ipykernel)",
   "language": "python",
   "name": "python3"
  },
  "language_info": {
   "codemirror_mode": {
    "name": "ipython",
    "version": 3
   },
   "file_extension": ".py",
   "mimetype": "text/x-python",
   "name": "python",
   "nbconvert_exporter": "python",
   "pygments_lexer": "ipython3",
   "version": "3.11.7"
  }
 },
 "nbformat": 4,
 "nbformat_minor": 5
}
